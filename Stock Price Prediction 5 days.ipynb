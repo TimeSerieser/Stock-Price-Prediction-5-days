{
 "cells": [
  {
   "cell_type": "code",
   "execution_count": 1,
   "metadata": {},
   "outputs": [
    {
     "name": "stdout",
     "output_type": "stream",
     "text": [
      "Requirement already satisfied: yfinance in c:\\programdata\\anaconda3\\lib\\site-packages (0.1.67)\n",
      "Requirement already satisfied: numpy>=1.15 in c:\\programdata\\anaconda3\\lib\\site-packages (from yfinance) (1.19.2)\n",
      "Requirement already satisfied: multitasking>=0.0.7 in c:\\programdata\\anaconda3\\lib\\site-packages (from yfinance) (0.0.10)\n",
      "Requirement already satisfied: lxml>=4.5.1 in c:\\programdata\\anaconda3\\lib\\site-packages (from yfinance) (4.6.1)\n",
      "Requirement already satisfied: pandas>=0.24 in c:\\programdata\\anaconda3\\lib\\site-packages (from yfinance) (1.2.4)\n",
      "Requirement already satisfied: requests>=2.20 in c:\\programdata\\anaconda3\\lib\\site-packages (from yfinance) (2.24.0)\n",
      "Requirement already satisfied: python-dateutil>=2.7.3 in c:\\programdata\\anaconda3\\lib\\site-packages (from pandas>=0.24->yfinance) (2.8.1)\n",
      "Requirement already satisfied: pytz>=2017.3 in c:\\programdata\\anaconda3\\lib\\site-packages (from pandas>=0.24->yfinance) (2020.1)\n",
      "Requirement already satisfied: certifi>=2017.4.17 in c:\\programdata\\anaconda3\\lib\\site-packages (from requests>=2.20->yfinance) (2021.10.8)\n",
      "Requirement already satisfied: urllib3!=1.25.0,!=1.25.1,<1.26,>=1.21.1 in c:\\programdata\\anaconda3\\lib\\site-packages (from requests>=2.20->yfinance) (1.25.11)\n",
      "Requirement already satisfied: idna<3,>=2.5 in c:\\programdata\\anaconda3\\lib\\site-packages (from requests>=2.20->yfinance) (2.10)\n",
      "Requirement already satisfied: chardet<4,>=3.0.2 in c:\\programdata\\anaconda3\\lib\\site-packages (from requests>=2.20->yfinance) (3.0.4)\n",
      "Requirement already satisfied: six>=1.5 in c:\\programdata\\anaconda3\\lib\\site-packages (from python-dateutil>=2.7.3->pandas>=0.24->yfinance) (1.15.0)\n",
      "Note: you may need to restart the kernel to use updated packages.\n"
     ]
    }
   ],
   "source": [
    "pip install yfinance"
   ]
  },
  {
   "cell_type": "code",
   "execution_count": 2,
   "metadata": {},
   "outputs": [
    {
     "name": "stdout",
     "output_type": "stream",
     "text": [
      "Requirement already satisfied: fix_yahoo_finance in c:\\programdata\\anaconda3\\lib\\site-packages (0.1.37)\n",
      "Requirement already satisfied: yfinance in c:\\programdata\\anaconda3\\lib\\site-packages (from fix_yahoo_finance) (0.1.67)\n",
      "Requirement already satisfied: lxml>=4.5.1 in c:\\programdata\\anaconda3\\lib\\site-packages (from yfinance->fix_yahoo_finance) (4.6.1)\n",
      "Requirement already satisfied: multitasking>=0.0.7 in c:\\programdata\\anaconda3\\lib\\site-packages (from yfinance->fix_yahoo_finance) (0.0.10)\n",
      "Requirement already satisfied: pandas>=0.24 in c:\\programdata\\anaconda3\\lib\\site-packages (from yfinance->fix_yahoo_finance) (1.2.4)\n",
      "Requirement already satisfied: numpy>=1.15 in c:\\programdata\\anaconda3\\lib\\site-packages (from yfinance->fix_yahoo_finance) (1.19.2)\n",
      "Requirement already satisfied: requests>=2.20 in c:\\programdata\\anaconda3\\lib\\site-packages (from yfinance->fix_yahoo_finance) (2.24.0)\n",
      "Requirement already satisfied: python-dateutil>=2.7.3 in c:\\programdata\\anaconda3\\lib\\site-packages (from pandas>=0.24->yfinance->fix_yahoo_finance) (2.8.1)\n",
      "Requirement already satisfied: pytz>=2017.3 in c:\\programdata\\anaconda3\\lib\\site-packages (from pandas>=0.24->yfinance->fix_yahoo_finance) (2020.1)\n",
      "Requirement already satisfied: idna<3,>=2.5 in c:\\programdata\\anaconda3\\lib\\site-packages (from requests>=2.20->yfinance->fix_yahoo_finance) (2.10)\n",
      "Requirement already satisfied: chardet<4,>=3.0.2 in c:\\programdata\\anaconda3\\lib\\site-packages (from requests>=2.20->yfinance->fix_yahoo_finance) (3.0.4)\n",
      "Requirement already satisfied: certifi>=2017.4.17 in c:\\programdata\\anaconda3\\lib\\site-packages (from requests>=2.20->yfinance->fix_yahoo_finance) (2021.10.8)\n",
      "Requirement already satisfied: urllib3!=1.25.0,!=1.25.1,<1.26,>=1.21.1 in c:\\programdata\\anaconda3\\lib\\site-packages (from requests>=2.20->yfinance->fix_yahoo_finance) (1.25.11)\n",
      "Requirement already satisfied: six>=1.5 in c:\\programdata\\anaconda3\\lib\\site-packages (from python-dateutil>=2.7.3->pandas>=0.24->yfinance->fix_yahoo_finance) (1.15.0)\n",
      "Note: you may need to restart the kernel to use updated packages.\n"
     ]
    }
   ],
   "source": [
    "pip install fix_yahoo_finance"
   ]
  },
  {
   "cell_type": "code",
   "execution_count": 3,
   "metadata": {},
   "outputs": [],
   "source": [
    "import numpy as np\n",
    "import pandas as pd\n",
    "from sklearn.linear_model import LinearRegression\n",
    "from sklearn.metrics import mean_squared_error as MSE\n",
    "import warnings\n",
    "warnings.filterwarnings('ignore')\n",
    "from pandas_datareader import data as pdr\n",
    "import pandas\n",
    "import yfinance as yfin\n",
    "yfin.pdr_override()"
   ]
  },
  {
   "cell_type": "markdown",
   "metadata": {},
   "source": [
    "# 1. Choosing Ticker and Training Window"
   ]
  },
  {
   "cell_type": "code",
   "execution_count": 4,
   "metadata": {},
   "outputs": [],
   "source": [
    "Ticker = \"MSFT\"\n",
    "Prediction_Date = \"2020-05-27\"\n",
    "Training_Strat_Date = \"2000-01-01\"\n",
    "Training_End_Date = \"2020-05-26\""
   ]
  },
  {
   "cell_type": "code",
   "execution_count": 5,
   "metadata": {},
   "outputs": [
    {
     "name": "stdout",
     "output_type": "stream",
     "text": [
      "[*********************100%***********************]  1 of 1 completed\n"
     ]
    }
   ],
   "source": [
    "df1 = pdr.get_data_yahoo(Ticker, \n",
    "                         start=Training_Strat_Date,\n",
    "                         end=Training_End_Date)"
   ]
  },
  {
   "cell_type": "markdown",
   "metadata": {},
   "source": [
    "# 2. Presenting the Training Data"
   ]
  },
  {
   "cell_type": "code",
   "execution_count": 6,
   "metadata": {},
   "outputs": [
    {
     "data": {
      "text/html": [
       "<div>\n",
       "<style scoped>\n",
       "    .dataframe tbody tr th:only-of-type {\n",
       "        vertical-align: middle;\n",
       "    }\n",
       "\n",
       "    .dataframe tbody tr th {\n",
       "        vertical-align: top;\n",
       "    }\n",
       "\n",
       "    .dataframe thead th {\n",
       "        text-align: right;\n",
       "    }\n",
       "</style>\n",
       "<table border=\"1\" class=\"dataframe\">\n",
       "  <thead>\n",
       "    <tr style=\"text-align: right;\">\n",
       "      <th></th>\n",
       "      <th>Open</th>\n",
       "      <th>High</th>\n",
       "      <th>Low</th>\n",
       "      <th>Adj Close</th>\n",
       "      <th>Volume</th>\n",
       "      <th>Close</th>\n",
       "    </tr>\n",
       "    <tr>\n",
       "      <th>Date</th>\n",
       "      <th></th>\n",
       "      <th></th>\n",
       "      <th></th>\n",
       "      <th></th>\n",
       "      <th></th>\n",
       "      <th></th>\n",
       "    </tr>\n",
       "  </thead>\n",
       "  <tbody>\n",
       "    <tr>\n",
       "      <th>1999-12-31</th>\n",
       "      <td>58.75000</td>\n",
       "      <td>58.8750</td>\n",
       "      <td>58.1250</td>\n",
       "      <td>36.777348</td>\n",
       "      <td>12517600</td>\n",
       "      <td>58.37500</td>\n",
       "    </tr>\n",
       "    <tr>\n",
       "      <th>2000-01-03</th>\n",
       "      <td>58.68750</td>\n",
       "      <td>59.3125</td>\n",
       "      <td>56.0000</td>\n",
       "      <td>36.718296</td>\n",
       "      <td>53228400</td>\n",
       "      <td>58.28125</td>\n",
       "    </tr>\n",
       "    <tr>\n",
       "      <th>2000-01-04</th>\n",
       "      <td>56.78125</td>\n",
       "      <td>58.5625</td>\n",
       "      <td>56.1250</td>\n",
       "      <td>35.477947</td>\n",
       "      <td>54119000</td>\n",
       "      <td>56.31250</td>\n",
       "    </tr>\n",
       "    <tr>\n",
       "      <th>2000-01-05</th>\n",
       "      <td>55.56250</td>\n",
       "      <td>58.1875</td>\n",
       "      <td>54.6875</td>\n",
       "      <td>35.852020</td>\n",
       "      <td>64059600</td>\n",
       "      <td>56.90625</td>\n",
       "    </tr>\n",
       "    <tr>\n",
       "      <th>2000-01-06</th>\n",
       "      <td>56.09375</td>\n",
       "      <td>56.9375</td>\n",
       "      <td>54.1875</td>\n",
       "      <td>34.651039</td>\n",
       "      <td>54976600</td>\n",
       "      <td>55.00000</td>\n",
       "    </tr>\n",
       "  </tbody>\n",
       "</table>\n",
       "</div>"
      ],
      "text/plain": [
       "                Open     High      Low  Adj Close    Volume     Close\n",
       "Date                                                                 \n",
       "1999-12-31  58.75000  58.8750  58.1250  36.777348  12517600  58.37500\n",
       "2000-01-03  58.68750  59.3125  56.0000  36.718296  53228400  58.28125\n",
       "2000-01-04  56.78125  58.5625  56.1250  35.477947  54119000  56.31250\n",
       "2000-01-05  55.56250  58.1875  54.6875  35.852020  64059600  56.90625\n",
       "2000-01-06  56.09375  56.9375  54.1875  34.651039  54976600  55.00000"
      ]
     },
     "execution_count": 6,
     "metadata": {},
     "output_type": "execute_result"
    }
   ],
   "source": [
    "daily_prices1 = pd.concat([df1['Open'], df1['High'], df1['Low'],\n",
    "                           df1['Adj Close'], df1['Volume'],df1['Close']], axis=1)\n",
    "\n",
    "daily_prices1.columns = ['Open', 'High', 'Low',\n",
    "                         'Adj Close','Volume','Close']\n",
    "daily_prices1.head()"
   ]
  },
  {
   "cell_type": "code",
   "execution_count": 7,
   "metadata": {},
   "outputs": [
    {
     "data": {
      "text/html": [
       "<div>\n",
       "<style scoped>\n",
       "    .dataframe tbody tr th:only-of-type {\n",
       "        vertical-align: middle;\n",
       "    }\n",
       "\n",
       "    .dataframe tbody tr th {\n",
       "        vertical-align: top;\n",
       "    }\n",
       "\n",
       "    .dataframe thead th {\n",
       "        text-align: right;\n",
       "    }\n",
       "</style>\n",
       "<table border=\"1\" class=\"dataframe\">\n",
       "  <thead>\n",
       "    <tr style=\"text-align: right;\">\n",
       "      <th></th>\n",
       "      <th>Open</th>\n",
       "      <th>High</th>\n",
       "      <th>Low</th>\n",
       "      <th>Adj Close</th>\n",
       "      <th>Volume</th>\n",
       "      <th>Close</th>\n",
       "    </tr>\n",
       "    <tr>\n",
       "      <th>Date</th>\n",
       "      <th></th>\n",
       "      <th></th>\n",
       "      <th></th>\n",
       "      <th></th>\n",
       "      <th></th>\n",
       "      <th></th>\n",
       "    </tr>\n",
       "  </thead>\n",
       "  <tbody>\n",
       "    <tr>\n",
       "      <th>2020-05-18</th>\n",
       "      <td>185.750000</td>\n",
       "      <td>186.199997</td>\n",
       "      <td>183.960007</td>\n",
       "      <td>181.570862</td>\n",
       "      <td>35264500</td>\n",
       "      <td>184.910004</td>\n",
       "    </tr>\n",
       "    <tr>\n",
       "      <th>2020-05-19</th>\n",
       "      <td>185.029999</td>\n",
       "      <td>186.600006</td>\n",
       "      <td>183.490005</td>\n",
       "      <td>180.313980</td>\n",
       "      <td>26799100</td>\n",
       "      <td>183.630005</td>\n",
       "    </tr>\n",
       "    <tr>\n",
       "      <th>2020-05-20</th>\n",
       "      <td>184.809998</td>\n",
       "      <td>185.850006</td>\n",
       "      <td>183.940002</td>\n",
       "      <td>182.815063</td>\n",
       "      <td>31261300</td>\n",
       "      <td>185.660004</td>\n",
       "    </tr>\n",
       "    <tr>\n",
       "      <th>2020-05-21</th>\n",
       "      <td>185.399994</td>\n",
       "      <td>186.669998</td>\n",
       "      <td>183.289993</td>\n",
       "      <td>180.619217</td>\n",
       "      <td>29119500</td>\n",
       "      <td>183.429993</td>\n",
       "    </tr>\n",
       "    <tr>\n",
       "      <th>2020-05-22</th>\n",
       "      <td>183.190002</td>\n",
       "      <td>184.460007</td>\n",
       "      <td>182.539993</td>\n",
       "      <td>180.697998</td>\n",
       "      <td>20826900</td>\n",
       "      <td>183.509995</td>\n",
       "    </tr>\n",
       "  </tbody>\n",
       "</table>\n",
       "</div>"
      ],
      "text/plain": [
       "                  Open        High         Low   Adj Close    Volume  \\\n",
       "Date                                                                   \n",
       "2020-05-18  185.750000  186.199997  183.960007  181.570862  35264500   \n",
       "2020-05-19  185.029999  186.600006  183.490005  180.313980  26799100   \n",
       "2020-05-20  184.809998  185.850006  183.940002  182.815063  31261300   \n",
       "2020-05-21  185.399994  186.669998  183.289993  180.619217  29119500   \n",
       "2020-05-22  183.190002  184.460007  182.539993  180.697998  20826900   \n",
       "\n",
       "                 Close  \n",
       "Date                    \n",
       "2020-05-18  184.910004  \n",
       "2020-05-19  183.630005  \n",
       "2020-05-20  185.660004  \n",
       "2020-05-21  183.429993  \n",
       "2020-05-22  183.509995  "
      ]
     },
     "execution_count": 7,
     "metadata": {},
     "output_type": "execute_result"
    }
   ],
   "source": [
    "daily_prices1.tail()"
   ]
  },
  {
   "cell_type": "markdown",
   "metadata": {},
   "source": [
    "# 3. Creating 'Close t+1' Column"
   ]
  },
  {
   "cell_type": "code",
   "execution_count": 8,
   "metadata": {},
   "outputs": [
    {
     "data": {
      "text/html": [
       "<div>\n",
       "<style scoped>\n",
       "    .dataframe tbody tr th:only-of-type {\n",
       "        vertical-align: middle;\n",
       "    }\n",
       "\n",
       "    .dataframe tbody tr th {\n",
       "        vertical-align: top;\n",
       "    }\n",
       "\n",
       "    .dataframe thead th {\n",
       "        text-align: right;\n",
       "    }\n",
       "</style>\n",
       "<table border=\"1\" class=\"dataframe\">\n",
       "  <thead>\n",
       "    <tr style=\"text-align: right;\">\n",
       "      <th></th>\n",
       "      <th>Open</th>\n",
       "      <th>High</th>\n",
       "      <th>Low</th>\n",
       "      <th>Adj Close</th>\n",
       "      <th>Volume</th>\n",
       "      <th>Close</th>\n",
       "      <th>Close t+1</th>\n",
       "    </tr>\n",
       "    <tr>\n",
       "      <th>Date</th>\n",
       "      <th></th>\n",
       "      <th></th>\n",
       "      <th></th>\n",
       "      <th></th>\n",
       "      <th></th>\n",
       "      <th></th>\n",
       "      <th></th>\n",
       "    </tr>\n",
       "  </thead>\n",
       "  <tbody>\n",
       "    <tr>\n",
       "      <th>1999-12-31</th>\n",
       "      <td>58.75000</td>\n",
       "      <td>58.8750</td>\n",
       "      <td>58.1250</td>\n",
       "      <td>36.777348</td>\n",
       "      <td>12517600</td>\n",
       "      <td>58.37500</td>\n",
       "      <td>58</td>\n",
       "    </tr>\n",
       "    <tr>\n",
       "      <th>2000-01-03</th>\n",
       "      <td>58.68750</td>\n",
       "      <td>59.3125</td>\n",
       "      <td>56.0000</td>\n",
       "      <td>36.718296</td>\n",
       "      <td>53228400</td>\n",
       "      <td>58.28125</td>\n",
       "      <td>56</td>\n",
       "    </tr>\n",
       "    <tr>\n",
       "      <th>2000-01-04</th>\n",
       "      <td>56.78125</td>\n",
       "      <td>58.5625</td>\n",
       "      <td>56.1250</td>\n",
       "      <td>35.477947</td>\n",
       "      <td>54119000</td>\n",
       "      <td>56.31250</td>\n",
       "      <td>56</td>\n",
       "    </tr>\n",
       "    <tr>\n",
       "      <th>2000-01-05</th>\n",
       "      <td>55.56250</td>\n",
       "      <td>58.1875</td>\n",
       "      <td>54.6875</td>\n",
       "      <td>35.852020</td>\n",
       "      <td>64059600</td>\n",
       "      <td>56.90625</td>\n",
       "      <td>55</td>\n",
       "    </tr>\n",
       "    <tr>\n",
       "      <th>2000-01-06</th>\n",
       "      <td>56.09375</td>\n",
       "      <td>56.9375</td>\n",
       "      <td>54.1875</td>\n",
       "      <td>34.651039</td>\n",
       "      <td>54976600</td>\n",
       "      <td>55.00000</td>\n",
       "      <td>55</td>\n",
       "    </tr>\n",
       "  </tbody>\n",
       "</table>\n",
       "</div>"
      ],
      "text/plain": [
       "                Open     High      Low  Adj Close    Volume     Close  \\\n",
       "Date                                                                    \n",
       "1999-12-31  58.75000  58.8750  58.1250  36.777348  12517600  58.37500   \n",
       "2000-01-03  58.68750  59.3125  56.0000  36.718296  53228400  58.28125   \n",
       "2000-01-04  56.78125  58.5625  56.1250  35.477947  54119000  56.31250   \n",
       "2000-01-05  55.56250  58.1875  54.6875  35.852020  64059600  56.90625   \n",
       "2000-01-06  56.09375  56.9375  54.1875  34.651039  54976600  55.00000   \n",
       "\n",
       "            Close t+1  \n",
       "Date                   \n",
       "1999-12-31         58  \n",
       "2000-01-03         56  \n",
       "2000-01-04         56  \n",
       "2000-01-05         55  \n",
       "2000-01-06         55  "
      ]
     },
     "execution_count": 8,
     "metadata": {},
     "output_type": "execute_result"
    }
   ],
   "source": [
    "daily_prices1['Close t+1'] = 0\n",
    "\n",
    "for i in range (len(daily_prices1['Close'])):\n",
    "    daily_prices1['Close t+1'][i-1]=float(daily_prices1['Close'][i])\n",
    "\n",
    "data1 = daily_prices1[daily_prices1.index != Training_End_Date]\n",
    "data1.head()"
   ]
  },
  {
   "cell_type": "code",
   "execution_count": 9,
   "metadata": {},
   "outputs": [
    {
     "data": {
      "text/html": [
       "<div>\n",
       "<style scoped>\n",
       "    .dataframe tbody tr th:only-of-type {\n",
       "        vertical-align: middle;\n",
       "    }\n",
       "\n",
       "    .dataframe tbody tr th {\n",
       "        vertical-align: top;\n",
       "    }\n",
       "\n",
       "    .dataframe thead th {\n",
       "        text-align: right;\n",
       "    }\n",
       "</style>\n",
       "<table border=\"1\" class=\"dataframe\">\n",
       "  <thead>\n",
       "    <tr style=\"text-align: right;\">\n",
       "      <th></th>\n",
       "      <th>Open</th>\n",
       "      <th>High</th>\n",
       "      <th>Low</th>\n",
       "      <th>Adj Close</th>\n",
       "      <th>Volume</th>\n",
       "      <th>Close</th>\n",
       "      <th>Close t+1</th>\n",
       "    </tr>\n",
       "    <tr>\n",
       "      <th>Date</th>\n",
       "      <th></th>\n",
       "      <th></th>\n",
       "      <th></th>\n",
       "      <th></th>\n",
       "      <th></th>\n",
       "      <th></th>\n",
       "      <th></th>\n",
       "    </tr>\n",
       "  </thead>\n",
       "  <tbody>\n",
       "    <tr>\n",
       "      <th>2020-05-18</th>\n",
       "      <td>185.750000</td>\n",
       "      <td>186.199997</td>\n",
       "      <td>183.960007</td>\n",
       "      <td>181.570862</td>\n",
       "      <td>35264500</td>\n",
       "      <td>184.910004</td>\n",
       "      <td>183</td>\n",
       "    </tr>\n",
       "    <tr>\n",
       "      <th>2020-05-19</th>\n",
       "      <td>185.029999</td>\n",
       "      <td>186.600006</td>\n",
       "      <td>183.490005</td>\n",
       "      <td>180.313980</td>\n",
       "      <td>26799100</td>\n",
       "      <td>183.630005</td>\n",
       "      <td>185</td>\n",
       "    </tr>\n",
       "    <tr>\n",
       "      <th>2020-05-20</th>\n",
       "      <td>184.809998</td>\n",
       "      <td>185.850006</td>\n",
       "      <td>183.940002</td>\n",
       "      <td>182.815063</td>\n",
       "      <td>31261300</td>\n",
       "      <td>185.660004</td>\n",
       "      <td>183</td>\n",
       "    </tr>\n",
       "    <tr>\n",
       "      <th>2020-05-21</th>\n",
       "      <td>185.399994</td>\n",
       "      <td>186.669998</td>\n",
       "      <td>183.289993</td>\n",
       "      <td>180.619217</td>\n",
       "      <td>29119500</td>\n",
       "      <td>183.429993</td>\n",
       "      <td>183</td>\n",
       "    </tr>\n",
       "    <tr>\n",
       "      <th>2020-05-22</th>\n",
       "      <td>183.190002</td>\n",
       "      <td>184.460007</td>\n",
       "      <td>182.539993</td>\n",
       "      <td>180.697998</td>\n",
       "      <td>20826900</td>\n",
       "      <td>183.509995</td>\n",
       "      <td>58</td>\n",
       "    </tr>\n",
       "  </tbody>\n",
       "</table>\n",
       "</div>"
      ],
      "text/plain": [
       "                  Open        High         Low   Adj Close    Volume  \\\n",
       "Date                                                                   \n",
       "2020-05-18  185.750000  186.199997  183.960007  181.570862  35264500   \n",
       "2020-05-19  185.029999  186.600006  183.490005  180.313980  26799100   \n",
       "2020-05-20  184.809998  185.850006  183.940002  182.815063  31261300   \n",
       "2020-05-21  185.399994  186.669998  183.289993  180.619217  29119500   \n",
       "2020-05-22  183.190002  184.460007  182.539993  180.697998  20826900   \n",
       "\n",
       "                 Close  Close t+1  \n",
       "Date                               \n",
       "2020-05-18  184.910004        183  \n",
       "2020-05-19  183.630005        185  \n",
       "2020-05-20  185.660004        183  \n",
       "2020-05-21  183.429993        183  \n",
       "2020-05-22  183.509995         58  "
      ]
     },
     "execution_count": 9,
     "metadata": {},
     "output_type": "execute_result"
    }
   ],
   "source": [
    "data1.tail()"
   ]
  },
  {
   "cell_type": "code",
   "execution_count": 10,
   "metadata": {},
   "outputs": [
    {
     "data": {
      "text/html": [
       "<div>\n",
       "<style scoped>\n",
       "    .dataframe tbody tr th:only-of-type {\n",
       "        vertical-align: middle;\n",
       "    }\n",
       "\n",
       "    .dataframe tbody tr th {\n",
       "        vertical-align: top;\n",
       "    }\n",
       "\n",
       "    .dataframe thead th {\n",
       "        text-align: right;\n",
       "    }\n",
       "</style>\n",
       "<table border=\"1\" class=\"dataframe\">\n",
       "  <thead>\n",
       "    <tr style=\"text-align: right;\">\n",
       "      <th></th>\n",
       "      <th>Open</th>\n",
       "      <th>High</th>\n",
       "      <th>Low</th>\n",
       "      <th>Adj Close</th>\n",
       "      <th>Volume</th>\n",
       "      <th>Close</th>\n",
       "      <th>Close t+1</th>\n",
       "    </tr>\n",
       "  </thead>\n",
       "  <tbody>\n",
       "    <tr>\n",
       "      <th>count</th>\n",
       "      <td>5131.000000</td>\n",
       "      <td>5131.000000</td>\n",
       "      <td>5131.000000</td>\n",
       "      <td>5131.000000</td>\n",
       "      <td>5.131000e+03</td>\n",
       "      <td>5131.000000</td>\n",
       "      <td>5131.000000</td>\n",
       "    </tr>\n",
       "    <tr>\n",
       "      <th>mean</th>\n",
       "      <td>44.696361</td>\n",
       "      <td>45.159711</td>\n",
       "      <td>44.225597</td>\n",
       "      <td>37.817722</td>\n",
       "      <td>5.515151e+07</td>\n",
       "      <td>44.702231</td>\n",
       "      <td>44.211265</td>\n",
       "    </tr>\n",
       "    <tr>\n",
       "      <th>std</th>\n",
       "      <td>32.776598</td>\n",
       "      <td>33.085114</td>\n",
       "      <td>32.428960</td>\n",
       "      <td>34.122601</td>\n",
       "      <td>3.145628e+07</td>\n",
       "      <td>32.784144</td>\n",
       "      <td>32.787190</td>\n",
       "    </tr>\n",
       "    <tr>\n",
       "      <th>min</th>\n",
       "      <td>15.200000</td>\n",
       "      <td>15.620000</td>\n",
       "      <td>14.870000</td>\n",
       "      <td>11.487976</td>\n",
       "      <td>7.425600e+06</td>\n",
       "      <td>15.150000</td>\n",
       "      <td>15.000000</td>\n",
       "    </tr>\n",
       "    <tr>\n",
       "      <th>25%</th>\n",
       "      <td>26.600000</td>\n",
       "      <td>26.889999</td>\n",
       "      <td>26.309999</td>\n",
       "      <td>18.769629</td>\n",
       "      <td>3.304860e+07</td>\n",
       "      <td>26.590000</td>\n",
       "      <td>26.000000</td>\n",
       "    </tr>\n",
       "    <tr>\n",
       "      <th>50%</th>\n",
       "      <td>29.910000</td>\n",
       "      <td>30.200001</td>\n",
       "      <td>29.610001</td>\n",
       "      <td>22.047682</td>\n",
       "      <td>5.048160e+07</td>\n",
       "      <td>29.910000</td>\n",
       "      <td>29.000000</td>\n",
       "    </tr>\n",
       "    <tr>\n",
       "      <th>75%</th>\n",
       "      <td>47.040001</td>\n",
       "      <td>47.584999</td>\n",
       "      <td>46.555000</td>\n",
       "      <td>40.846437</td>\n",
       "      <td>6.872525e+07</td>\n",
       "      <td>47.070002</td>\n",
       "      <td>47.000000</td>\n",
       "    </tr>\n",
       "    <tr>\n",
       "      <th>max</th>\n",
       "      <td>190.649994</td>\n",
       "      <td>190.699997</td>\n",
       "      <td>186.470001</td>\n",
       "      <td>184.787720</td>\n",
       "      <td>5.910522e+08</td>\n",
       "      <td>188.699997</td>\n",
       "      <td>188.000000</td>\n",
       "    </tr>\n",
       "  </tbody>\n",
       "</table>\n",
       "</div>"
      ],
      "text/plain": [
       "              Open         High          Low    Adj Close        Volume  \\\n",
       "count  5131.000000  5131.000000  5131.000000  5131.000000  5.131000e+03   \n",
       "mean     44.696361    45.159711    44.225597    37.817722  5.515151e+07   \n",
       "std      32.776598    33.085114    32.428960    34.122601  3.145628e+07   \n",
       "min      15.200000    15.620000    14.870000    11.487976  7.425600e+06   \n",
       "25%      26.600000    26.889999    26.309999    18.769629  3.304860e+07   \n",
       "50%      29.910000    30.200001    29.610001    22.047682  5.048160e+07   \n",
       "75%      47.040001    47.584999    46.555000    40.846437  6.872525e+07   \n",
       "max     190.649994   190.699997   186.470001   184.787720  5.910522e+08   \n",
       "\n",
       "             Close    Close t+1  \n",
       "count  5131.000000  5131.000000  \n",
       "mean     44.702231    44.211265  \n",
       "std      32.784144    32.787190  \n",
       "min      15.150000    15.000000  \n",
       "25%      26.590000    26.000000  \n",
       "50%      29.910000    29.000000  \n",
       "75%      47.070002    47.000000  \n",
       "max     188.699997   188.000000  "
      ]
     },
     "execution_count": 10,
     "metadata": {},
     "output_type": "execute_result"
    }
   ],
   "source": [
    "data1.describe()"
   ]
  },
  {
   "cell_type": "markdown",
   "metadata": {},
   "source": [
    "# 4. Defining the Independent Variables and Dependent Variable"
   ]
  },
  {
   "cell_type": "code",
   "execution_count": 11,
   "metadata": {},
   "outputs": [],
   "source": [
    "X = data1[['Open','High','Low','Adj Close','Volume']]\n",
    "y = data1[['Close t+1']]"
   ]
  },
  {
   "cell_type": "markdown",
   "metadata": {},
   "source": [
    "# 5. Building a Linear Regression Model"
   ]
  },
  {
   "cell_type": "code",
   "execution_count": 12,
   "metadata": {},
   "outputs": [
    {
     "name": "stdout",
     "output_type": "stream",
     "text": [
      "                            OLS Regression Results                            \n",
      "==============================================================================\n",
      "Dep. Variable:              Close t+1   R-squared:                       0.996\n",
      "Model:                            OLS   Adj. R-squared:                  0.996\n",
      "Method:                 Least Squares   F-statistic:                 2.562e+05\n",
      "Date:                Wed, 18 May 2022   Prob (F-statistic):               0.00\n",
      "Time:                        23:31:15   Log-Likelihood:                -11012.\n",
      "No. Observations:                5131   AIC:                         2.204e+04\n",
      "Df Residuals:                    5125   BIC:                         2.208e+04\n",
      "Df Model:                           5                                         \n",
      "Covariance Type:            nonrobust                                         \n",
      "==============================================================================\n",
      "                 coef    std err          t      P>|t|      [0.025      0.975]\n",
      "------------------------------------------------------------------------------\n",
      "const         -0.1478      0.124     -1.189      0.235      -0.392       0.096\n",
      "Open          -0.4037      0.065     -6.184      0.000      -0.532      -0.276\n",
      "High           0.7203      0.050     14.437      0.000       0.622       0.818\n",
      "Low            0.6502      0.053     12.164      0.000       0.545       0.755\n",
      "Adj Close      0.0303      0.011      2.652      0.008       0.008       0.053\n",
      "Volume     -5.304e-10   1.13e-09     -0.468      0.640   -2.75e-09    1.69e-09\n",
      "==============================================================================\n",
      "Omnibus:                    15378.990   Durbin-Watson:                   1.286\n",
      "Prob(Omnibus):                  0.000   Jarque-Bera (JB):       1434965225.567\n",
      "Skew:                         -42.966   Prob(JB):                         0.00\n",
      "Kurtosis:                    2592.323   Cond. No.                     2.79e+08\n",
      "==============================================================================\n",
      "\n",
      "Notes:\n",
      "[1] Standard Errors assume that the covariance matrix of the errors is correctly specified.\n",
      "[2] The condition number is large, 2.79e+08. This might indicate that there are\n",
      "strong multicollinearity or other numerical problems.\n"
     ]
    }
   ],
   "source": [
    "import statsmodels.api as sm\n",
    "# Add a constant to the independent value\n",
    "X1 = sm.add_constant(X)\n",
    "# make regression model \n",
    "model = sm.OLS(y, X1)\n",
    "# fit model and print results\n",
    "result = model.fit()\n",
    "print(result.summary())\n",
    "lr=LinearRegression()\n",
    "#fit the linear model on train data\n",
    "lr_model=lr.fit(X,y)  "
   ]
  },
  {
   "cell_type": "markdown",
   "metadata": {},
   "source": [
    "# 6. Evaluating the Model "
   ]
  },
  {
   "cell_type": "code",
   "execution_count": 13,
   "metadata": {},
   "outputs": [
    {
     "name": "stdout",
     "output_type": "stream",
     "text": [
      "R squared of linear regression model: 99.60%\n",
      "RMSE of linear regression model: 2.069322720172566\n"
     ]
    }
   ],
   "source": [
    "from sklearn.metrics import mean_squared_error,mean_absolute_error\n",
    "#predict using the model\n",
    "y_pred=lr.predict(X)  \n",
    "#calculate R squared\n",
    "print(\"R squared of linear regression model:\", \"{:.2%}\".format(lr.score(X, y)))\n",
    "#calculate rmse\n",
    "rmse=np.sqrt(mean_squared_error(y,y_pred))     \n",
    "print('RMSE of linear regression model:',rmse)"
   ]
  },
  {
   "cell_type": "markdown",
   "metadata": {},
   "source": [
    "# 7. Choosing Testing Window"
   ]
  },
  {
   "cell_type": "code",
   "execution_count": 14,
   "metadata": {},
   "outputs": [
    {
     "name": "stdout",
     "output_type": "stream",
     "text": [
      "[*********************100%***********************]  1 of 1 completed\n"
     ]
    }
   ],
   "source": [
    "df2 = pdr.get_data_yahoo([Ticker], start=Training_End_Date, end=Prediction_Date)"
   ]
  },
  {
   "cell_type": "markdown",
   "metadata": {},
   "source": [
    "# 8. Presenting the Testing Data"
   ]
  },
  {
   "cell_type": "code",
   "execution_count": 15,
   "metadata": {},
   "outputs": [
    {
     "data": {
      "text/html": [
       "<div>\n",
       "<style scoped>\n",
       "    .dataframe tbody tr th:only-of-type {\n",
       "        vertical-align: middle;\n",
       "    }\n",
       "\n",
       "    .dataframe tbody tr th {\n",
       "        vertical-align: top;\n",
       "    }\n",
       "\n",
       "    .dataframe thead th {\n",
       "        text-align: right;\n",
       "    }\n",
       "</style>\n",
       "<table border=\"1\" class=\"dataframe\">\n",
       "  <thead>\n",
       "    <tr style=\"text-align: right;\">\n",
       "      <th></th>\n",
       "      <th>Open</th>\n",
       "      <th>High</th>\n",
       "      <th>Low</th>\n",
       "      <th>Adj Close</th>\n",
       "      <th>Volume</th>\n",
       "      <th>Close</th>\n",
       "    </tr>\n",
       "    <tr>\n",
       "      <th>Date</th>\n",
       "      <th></th>\n",
       "      <th></th>\n",
       "      <th></th>\n",
       "      <th></th>\n",
       "      <th></th>\n",
       "      <th></th>\n",
       "    </tr>\n",
       "  </thead>\n",
       "  <tbody>\n",
       "    <tr>\n",
       "      <th>2020-05-26</th>\n",
       "      <td>186.339996</td>\n",
       "      <td>186.5</td>\n",
       "      <td>181.100006</td>\n",
       "      <td>178.787735</td>\n",
       "      <td>36073600</td>\n",
       "      <td>181.570007</td>\n",
       "    </tr>\n",
       "  </tbody>\n",
       "</table>\n",
       "</div>"
      ],
      "text/plain": [
       "                  Open   High         Low   Adj Close    Volume       Close\n",
       "Date                                                                       \n",
       "2020-05-26  186.339996  186.5  181.100006  178.787735  36073600  181.570007"
      ]
     },
     "execution_count": 15,
     "metadata": {},
     "output_type": "execute_result"
    }
   ],
   "source": [
    "daily_prices2 = pd.concat([df2['Open'], df2['High'], df2['Low'],\n",
    "                           df2['Adj Close'], df2['Volume'],df2['Close']], axis=1)\n",
    "daily_prices2.columns = ['Open', 'High', 'Low',\n",
    "                         'Adj Close','Volume','Close']\n",
    "daily_prices2"
   ]
  },
  {
   "cell_type": "markdown",
   "metadata": {},
   "source": [
    "# 9. Creating 'Close t+1' Column Again"
   ]
  },
  {
   "cell_type": "code",
   "execution_count": 16,
   "metadata": {},
   "outputs": [
    {
     "data": {
      "text/html": [
       "<div>\n",
       "<style scoped>\n",
       "    .dataframe tbody tr th:only-of-type {\n",
       "        vertical-align: middle;\n",
       "    }\n",
       "\n",
       "    .dataframe tbody tr th {\n",
       "        vertical-align: top;\n",
       "    }\n",
       "\n",
       "    .dataframe thead th {\n",
       "        text-align: right;\n",
       "    }\n",
       "</style>\n",
       "<table border=\"1\" class=\"dataframe\">\n",
       "  <thead>\n",
       "    <tr style=\"text-align: right;\">\n",
       "      <th></th>\n",
       "      <th>Open</th>\n",
       "      <th>High</th>\n",
       "      <th>Low</th>\n",
       "      <th>Adj Close</th>\n",
       "      <th>Volume</th>\n",
       "      <th>Close</th>\n",
       "      <th>Close t+1</th>\n",
       "    </tr>\n",
       "    <tr>\n",
       "      <th>Date</th>\n",
       "      <th></th>\n",
       "      <th></th>\n",
       "      <th></th>\n",
       "      <th></th>\n",
       "      <th></th>\n",
       "      <th></th>\n",
       "      <th></th>\n",
       "    </tr>\n",
       "  </thead>\n",
       "  <tbody>\n",
       "    <tr>\n",
       "      <th>2020-05-26</th>\n",
       "      <td>186.339996</td>\n",
       "      <td>186.5</td>\n",
       "      <td>181.100006</td>\n",
       "      <td>178.787735</td>\n",
       "      <td>36073600</td>\n",
       "      <td>181.570007</td>\n",
       "      <td>181.570007</td>\n",
       "    </tr>\n",
       "  </tbody>\n",
       "</table>\n",
       "</div>"
      ],
      "text/plain": [
       "                  Open   High         Low   Adj Close    Volume       Close  \\\n",
       "Date                                                                          \n",
       "2020-05-26  186.339996  186.5  181.100006  178.787735  36073600  181.570007   \n",
       "\n",
       "             Close t+1  \n",
       "Date                    \n",
       "2020-05-26  181.570007  "
      ]
     },
     "execution_count": 16,
     "metadata": {},
     "output_type": "execute_result"
    }
   ],
   "source": [
    "daily_prices2['Close t+1'] = 0.001\n",
    "\n",
    "for i in range (len(daily_prices2['Close'])):\n",
    "    daily_prices2['Close t+1'][i-1]=float(daily_prices2['Close'][i])\n",
    "daily_prices2\n",
    "data2 = daily_prices2[daily_prices2.index == Training_End_Date]\n",
    "data2"
   ]
  },
  {
   "cell_type": "markdown",
   "metadata": {},
   "source": [
    "# 10. Saving the True Close Price of the Prediction Date + 1"
   ]
  },
  {
   "cell_type": "code",
   "execution_count": 17,
   "metadata": {},
   "outputs": [
    {
     "data": {
      "text/plain": [
       "181.57000732421875"
      ]
     },
     "execution_count": 17,
     "metadata": {},
     "output_type": "execute_result"
    }
   ],
   "source": [
    "TRUE = data2[\"Close t+1\"][0]\n",
    "TRUE"
   ]
  },
  {
   "cell_type": "markdown",
   "metadata": {},
   "source": [
    "# 11. Inserting the Prediction Date's Data into the Model"
   ]
  },
  {
   "cell_type": "code",
   "execution_count": 18,
   "metadata": {},
   "outputs": [],
   "source": [
    "new_data = data2.drop([\"Close t+1\",\"Close\"], axis=1)\n",
    "new_data = np.array(new_data).reshape(1, -1)\n",
    "new_pred=lr.predict(new_data)"
   ]
  },
  {
   "cell_type": "markdown",
   "metadata": {},
   "source": [
    "# 12. Presenting the results"
   ]
  },
  {
   "cell_type": "code",
   "execution_count": 19,
   "metadata": {},
   "outputs": [
    {
     "name": "stdout",
     "output_type": "stream",
     "text": [
      "\u001b[1m The predicted close price of the stock on 2020-05-27 was: $ 182.121\n",
      "\u001b[1m The true close price of the stock on 2020-05-27 was: $ 181.57\n",
      "\u001b[1m The model missed by 0.30%\n"
     ]
    }
   ],
   "source": [
    "result = float(new_pred[0])\n",
    "print(\"\\033[1m The predicted close price of the stock on\", Prediction_Date, \"was: $\",round(result,4))\n",
    "print(\"\\033[1m The true close price of the stock on\", Prediction_Date, \"was: $\", round(TRUE,4))\n",
    "aa = \"{:.2%}\".format(result/TRUE-1)\n",
    "print(\"\\033[1m The model missed by\", aa)"
   ]
  }
 ],
 "metadata": {
  "kernelspec": {
   "display_name": "Python 3",
   "language": "python",
   "name": "python3"
  },
  "language_info": {
   "codemirror_mode": {
    "name": "ipython",
    "version": 3
   },
   "file_extension": ".py",
   "mimetype": "text/x-python",
   "name": "python",
   "nbconvert_exporter": "python",
   "pygments_lexer": "ipython3",
   "version": "3.7.4"
  }
 },
 "nbformat": 4,
 "nbformat_minor": 4
}
